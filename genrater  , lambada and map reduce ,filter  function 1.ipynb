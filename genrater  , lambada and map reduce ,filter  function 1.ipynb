{
 "cells": [
  {
   "cell_type": "code",
   "execution_count": 1,
   "id": "9fa15dd5-fbc9-4e7c-b6d9-e7bf95a11d84",
   "metadata": {},
   "outputs": [
    {
     "data": {
      "text/plain": [
       "range(0, 10)"
      ]
     },
     "execution_count": 1,
     "metadata": {},
     "output_type": "execute_result"
    }
   ],
   "source": [
    "range(10)"
   ]
  },
  {
   "cell_type": "code",
   "execution_count": 2,
   "id": "81246763-2617-4177-8667-fdfc855312fe",
   "metadata": {},
   "outputs": [
    {
     "data": {
      "text/plain": [
       "[0, 1, 2, 3, 4, 5, 6, 7, 8, 9]"
      ]
     },
     "execution_count": 2,
     "metadata": {},
     "output_type": "execute_result"
    }
   ],
   "source": [
    "list(range(10))"
   ]
  },
  {
   "cell_type": "code",
   "execution_count": 3,
   "id": "73efef3f-56a9-419f-b023-3c66a4778614",
   "metadata": {},
   "outputs": [
    {
     "name": "stdout",
     "output_type": "stream",
     "text": [
      "0\n",
      "1\n",
      "2\n",
      "3\n",
      "4\n",
      "5\n",
      "6\n",
      "7\n",
      "8\n",
      "9\n"
     ]
    }
   ],
   "source": [
    "for i in range(10):\n",
    "    print(i)"
   ]
  },
  {
   "cell_type": "code",
   "execution_count": 7,
   "id": "534184ab-b36d-4e99-b86f-c3e857cea0c5",
   "metadata": {},
   "outputs": [],
   "source": [
    "def test_fib(n):\n",
    "    a,b = 0,1\n",
    "    for i in range(10):\n",
    "        yield  a \n",
    "        a,b = b , a+b"
   ]
  },
  {
   "cell_type": "code",
   "execution_count": 8,
   "id": "b7776b99-a36b-42b3-bb5a-57885e585c8e",
   "metadata": {},
   "outputs": [
    {
     "name": "stdout",
     "output_type": "stream",
     "text": [
      "0\n",
      "1\n",
      "1\n",
      "2\n",
      "3\n",
      "5\n",
      "8\n",
      "13\n",
      "21\n",
      "34\n"
     ]
    }
   ],
   "source": [
    "for i in test_fib(10):\n",
    "    print(i)"
   ]
  },
  {
   "cell_type": "code",
   "execution_count": 9,
   "id": "df6ba30d-f777-48e5-ab7f-9f625fa11f55",
   "metadata": {},
   "outputs": [],
   "source": [
    "# one example of genrater function"
   ]
  },
  {
   "cell_type": "code",
   "execution_count": 10,
   "id": "07f9739f-b9a8-4d50-b4cf-f24e919ac67c",
   "metadata": {},
   "outputs": [],
   "source": [
    "def test_fib1():\n",
    "    a,b = 0,1\n",
    "    while true :\n",
    "        yield a\n",
    "        a,b = b , a+b"
   ]
  },
  {
   "cell_type": "code",
   "execution_count": 11,
   "id": "ea37ec9e-6c79-4a27-869b-e117f6043a55",
   "metadata": {},
   "outputs": [],
   "source": [
    "fib = test_fib1()"
   ]
  },
  {
   "cell_type": "code",
   "execution_count": 14,
   "id": "7b32430a-0215-42b1-9af5-a9e27f18b150",
   "metadata": {},
   "outputs": [
    {
     "name": "stdout",
     "output_type": "stream",
     "text": [
      "0\n",
      "1\n",
      "2\n",
      "3\n",
      "4\n",
      "5\n",
      "6\n",
      "7\n",
      "8\n",
      "9\n"
     ]
    }
   ],
   "source": [
    "for i in range(10):\n",
    "    print(i)"
   ]
  },
  {
   "cell_type": "code",
   "execution_count": 15,
   "id": "9f151a32-5fd2-4358-bd79-cbe6c5be8deb",
   "metadata": {},
   "outputs": [],
   "source": [
    "s = \"sidharth\" "
   ]
  },
  {
   "cell_type": "code",
   "execution_count": 16,
   "id": "1f405800-0d22-439f-bcb6-c26c0896431c",
   "metadata": {},
   "outputs": [
    {
     "data": {
      "text/plain": [
       "'sidharth'"
      ]
     },
     "execution_count": 16,
     "metadata": {},
     "output_type": "execute_result"
    }
   ],
   "source": [
    "s"
   ]
  },
  {
   "cell_type": "code",
   "execution_count": 17,
   "id": "8e1f150a-6657-48b1-aaf0-31f4fed7c19e",
   "metadata": {},
   "outputs": [
    {
     "name": "stdout",
     "output_type": "stream",
     "text": [
      "s\n",
      "i\n",
      "d\n",
      "h\n",
      "a\n",
      "r\n",
      "t\n",
      "h\n"
     ]
    }
   ],
   "source": [
    "for i in s:\n",
    "    print(i)"
   ]
  },
  {
   "cell_type": "code",
   "execution_count": 18,
   "id": "88cccba4-cf8f-4e0e-83c3-721527e016e0",
   "metadata": {},
   "outputs": [
    {
     "ename": "TypeError",
     "evalue": "'str' object is not an iterator",
     "output_type": "error",
     "traceback": [
      "\u001b[0;31m---------------------------------------------------------------------------\u001b[0m",
      "\u001b[0;31mTypeError\u001b[0m                                 Traceback (most recent call last)",
      "Cell \u001b[0;32mIn[18], line 1\u001b[0m\n\u001b[0;32m----> 1\u001b[0m \u001b[38;5;28;43mnext\u001b[39;49m\u001b[43m(\u001b[49m\u001b[43ms\u001b[49m\u001b[43m)\u001b[49m\n",
      "\u001b[0;31mTypeError\u001b[0m: 'str' object is not an iterator"
     ]
    }
   ],
   "source": [
    "# str is a not an iterator so this is not run\n",
    "next(s)"
   ]
  },
  {
   "cell_type": "code",
   "execution_count": 19,
   "id": "c85da668-cdc0-4780-9a63-f6a90b3dfaa3",
   "metadata": {},
   "outputs": [],
   "source": [
    "s1 = iter(s)"
   ]
  },
  {
   "cell_type": "code",
   "execution_count": 20,
   "id": "52c8cb33-9223-4d9f-88e3-97f122ff2a3b",
   "metadata": {},
   "outputs": [
    {
     "data": {
      "text/plain": [
       "'s'"
      ]
     },
     "execution_count": 20,
     "metadata": {},
     "output_type": "execute_result"
    }
   ],
   "source": [
    "next(s1)"
   ]
  },
  {
   "cell_type": "code",
   "execution_count": 21,
   "id": "c96ba3d9-43e5-4035-aaa1-7d0b736540fb",
   "metadata": {},
   "outputs": [
    {
     "data": {
      "text/plain": [
       "'i'"
      ]
     },
     "execution_count": 21,
     "metadata": {},
     "output_type": "execute_result"
    }
   ],
   "source": [
    "next(s1)"
   ]
  },
  {
   "cell_type": "code",
   "execution_count": 22,
   "id": "4af20f58-1bcb-4353-8439-d96b2d3d093e",
   "metadata": {},
   "outputs": [
    {
     "data": {
      "text/plain": [
       "'d'"
      ]
     },
     "execution_count": 22,
     "metadata": {},
     "output_type": "execute_result"
    }
   ],
   "source": [
    "next(s1)"
   ]
  },
  {
   "cell_type": "code",
   "execution_count": 23,
   "id": "bc139a74-dfe4-4858-805d-9ae2e939ee1d",
   "metadata": {},
   "outputs": [
    {
     "data": {
      "text/plain": [
       "'h'"
      ]
     },
     "execution_count": 23,
     "metadata": {},
     "output_type": "execute_result"
    }
   ],
   "source": [
    "next(s1)"
   ]
  },
  {
   "cell_type": "code",
   "execution_count": 24,
   "id": "a6576f82-f3d8-44ad-a703-6607da8e49a2",
   "metadata": {},
   "outputs": [
    {
     "data": {
      "text/plain": [
       "'a'"
      ]
     },
     "execution_count": 24,
     "metadata": {},
     "output_type": "execute_result"
    }
   ],
   "source": [
    "next(s1)"
   ]
  },
  {
   "cell_type": "code",
   "execution_count": 25,
   "id": "383e8f3d-3670-4d70-8455-32ad94ce45f0",
   "metadata": {},
   "outputs": [
    {
     "data": {
      "text/plain": [
       "'r'"
      ]
     },
     "execution_count": 25,
     "metadata": {},
     "output_type": "execute_result"
    }
   ],
   "source": [
    "next(s1)"
   ]
  },
  {
   "cell_type": "code",
   "execution_count": 26,
   "id": "cec4d5ca-cc89-4f81-91ea-59228df8e42f",
   "metadata": {},
   "outputs": [
    {
     "data": {
      "text/plain": [
       "'t'"
      ]
     },
     "execution_count": 26,
     "metadata": {},
     "output_type": "execute_result"
    }
   ],
   "source": [
    "next(s1)"
   ]
  },
  {
   "cell_type": "code",
   "execution_count": 27,
   "id": "c570f67d-c50e-4b07-b170-65bded2bcc91",
   "metadata": {},
   "outputs": [
    {
     "data": {
      "text/plain": [
       "'h'"
      ]
     },
     "execution_count": 27,
     "metadata": {},
     "output_type": "execute_result"
    }
   ],
   "source": [
    "next(s1)"
   ]
  },
  {
   "cell_type": "code",
   "execution_count": 28,
   "id": "504d154a-17c3-4bb7-8347-15f406f981d3",
   "metadata": {},
   "outputs": [
    {
     "data": {
      "text/plain": [
       "str_iterator"
      ]
     },
     "execution_count": 28,
     "metadata": {},
     "output_type": "execute_result"
    }
   ],
   "source": [
    "type(s1)"
   ]
  },
  {
   "cell_type": "code",
   "execution_count": 29,
   "id": "d904fd6d-7deb-4341-9e5f-02b952721ec0",
   "metadata": {},
   "outputs": [],
   "source": [
    "def count_test(n):\n",
    "    count = 1\n",
    "    while count <= n:\n",
    "        yield count\n",
    "        count = count + 1"
   ]
  },
  {
   "cell_type": "code",
   "execution_count": 30,
   "id": "87b6bd8e-8bb8-40c4-bc68-5cc8b9ee0183",
   "metadata": {},
   "outputs": [],
   "source": [
    "c = count_test(5)"
   ]
  },
  {
   "cell_type": "code",
   "execution_count": 31,
   "id": "7c7dd7bd-35de-42bb-b9a6-e44039ce34b5",
   "metadata": {},
   "outputs": [
    {
     "data": {
      "text/plain": [
       "generator"
      ]
     },
     "execution_count": 31,
     "metadata": {},
     "output_type": "execute_result"
    }
   ],
   "source": [
    "type(c)"
   ]
  },
  {
   "cell_type": "code",
   "execution_count": 32,
   "id": "278cffb2-6092-4b37-803c-4e38f6f13aae",
   "metadata": {},
   "outputs": [
    {
     "name": "stdout",
     "output_type": "stream",
     "text": [
      "1\n",
      "2\n",
      "3\n",
      "4\n",
      "5\n"
     ]
    }
   ],
   "source": [
    "for i in c:\n",
    "    print(i)"
   ]
  },
  {
   "cell_type": "code",
   "execution_count": 1,
   "id": "4b1d90ec-4748-46b6-aa60-4ad65267d65c",
   "metadata": {},
   "outputs": [],
   "source": [
    "# lambda function"
   ]
  },
  {
   "cell_type": "code",
   "execution_count": 2,
   "id": "5158b4d8-d5dd-466d-a954-7f092bd64e3f",
   "metadata": {},
   "outputs": [],
   "source": [
    "n = 3\n",
    "p = 2"
   ]
  },
  {
   "cell_type": "code",
   "execution_count": 3,
   "id": "00c47ced-aeeb-4059-8162-722484bab0d3",
   "metadata": {},
   "outputs": [],
   "source": [
    "def test(n,p):\n",
    "    return n**p"
   ]
  },
  {
   "cell_type": "code",
   "execution_count": 4,
   "id": "0df50d2b-3f09-4b7a-a287-5a7dc4779718",
   "metadata": {},
   "outputs": [
    {
     "data": {
      "text/plain": [
       "9"
      ]
     },
     "execution_count": 4,
     "metadata": {},
     "output_type": "execute_result"
    }
   ],
   "source": [
    "test(3,2)"
   ]
  },
  {
   "cell_type": "code",
   "execution_count": 5,
   "id": "297ce334-95f6-40a7-85f0-402f76a50c0b",
   "metadata": {},
   "outputs": [],
   "source": [
    "a = lambda n,p :n**p"
   ]
  },
  {
   "cell_type": "code",
   "execution_count": 6,
   "id": "93e91118-823b-4a47-a348-e99b1b0b1e80",
   "metadata": {},
   "outputs": [
    {
     "data": {
      "text/plain": [
       "9"
      ]
     },
     "execution_count": 6,
     "metadata": {},
     "output_type": "execute_result"
    }
   ],
   "source": [
    "a(3,2)"
   ]
  },
  {
   "cell_type": "code",
   "execution_count": null,
   "id": "873a661c-a602-4c32-8cd3-75ba7c2b7307",
   "metadata": {},
   "outputs": [],
   "source": [
    "add = lambda x,y : x+y"
   ]
  },
  {
   "cell_type": "code",
   "execution_count": null,
   "id": "cea4d74f-42a9-4428-924e-fd92e9a0694b",
   "metadata": {},
   "outputs": [],
   "source": [
    "add(3,2)"
   ]
  },
  {
   "cell_type": "code",
   "execution_count": 5,
   "id": "0d790274-e55e-4ba4-8e69-8ae4f627a2bd",
   "metadata": {},
   "outputs": [],
   "source": [
    "c_to_f = lambda c : (9/6)*c + 32"
   ]
  },
  {
   "cell_type": "code",
   "execution_count": 6,
   "id": "084b1088-c3fd-49f2-951f-b0cf317ba783",
   "metadata": {},
   "outputs": [
    {
     "data": {
      "text/plain": [
       "99.5"
      ]
     },
     "execution_count": 6,
     "metadata": {},
     "output_type": "execute_result"
    }
   ],
   "source": [
    "c_to_f(45)"
   ]
  },
  {
   "cell_type": "code",
   "execution_count": 7,
   "id": "34485583-2014-46fe-ba01-8d8b528ef7ad",
   "metadata": {},
   "outputs": [],
   "source": [
    "# finding a max num."
   ]
  },
  {
   "cell_type": "code",
   "execution_count": 8,
   "id": "91516492-3c34-435b-ab37-6691740bfeab",
   "metadata": {},
   "outputs": [],
   "source": [
    "finding_max = lambda x,y : x if x>y else y"
   ]
  },
  {
   "cell_type": "code",
   "execution_count": 9,
   "id": "5ca14310-b0f8-43e1-bfb0-8da5ddda9c89",
   "metadata": {},
   "outputs": [
    {
     "data": {
      "text/plain": [
       "34"
      ]
     },
     "execution_count": 9,
     "metadata": {},
     "output_type": "execute_result"
    }
   ],
   "source": [
    "finding_max(34,23)"
   ]
  },
  {
   "cell_type": "code",
   "execution_count": 10,
   "id": "9c70a796-bacc-470b-b559-c13d09b87e40",
   "metadata": {},
   "outputs": [],
   "source": [
    "# create a function who find len of str return "
   ]
  },
  {
   "cell_type": "code",
   "execution_count": 11,
   "id": "a9f1cecf-135a-4003-a236-1116cacee970",
   "metadata": {},
   "outputs": [],
   "source": [
    "s = \"sidharth\""
   ]
  },
  {
   "cell_type": "code",
   "execution_count": 12,
   "id": "21f453cf-d28e-408d-b7ac-0ea16400a322",
   "metadata": {},
   "outputs": [],
   "source": [
    "find_len = lambda s : len(s)"
   ]
  },
  {
   "cell_type": "code",
   "execution_count": 13,
   "id": "2d5b1a6a-ec79-4369-9861-e17c00a3fc94",
   "metadata": {},
   "outputs": [
    {
     "data": {
      "text/plain": [
       "8"
      ]
     },
     "execution_count": 13,
     "metadata": {},
     "output_type": "execute_result"
    }
   ],
   "source": [
    "find_len (s)"
   ]
  },
  {
   "cell_type": "code",
   "execution_count": 6,
   "id": "83486ca1-628d-45ae-84ac-842df0dbf95e",
   "metadata": {},
   "outputs": [],
   "source": [
    "# map , reduce , and filter  function "
   ]
  },
  {
   "cell_type": "code",
   "execution_count": 8,
   "id": "a027ae6e-e1c5-4585-a6f2-0ca3d2cee727",
   "metadata": {},
   "outputs": [],
   "source": [
    "l = [2,3,4,5]"
   ]
  },
  {
   "cell_type": "code",
   "execution_count": 9,
   "id": "9484ff04-89fa-4d44-8acb-fca1ef200ee6",
   "metadata": {},
   "outputs": [],
   "source": [
    "def test(l):\n",
    "    l1 = []\n",
    "    for i in l :\n",
    "        l1.append(i**2)\n",
    "    return l1    "
   ]
  },
  {
   "cell_type": "code",
   "execution_count": 10,
   "id": "396af507-2c49-41f8-9537-f2ea66df3677",
   "metadata": {},
   "outputs": [
    {
     "data": {
      "text/plain": [
       "[4, 9, 16, 25]"
      ]
     },
     "execution_count": 10,
     "metadata": {},
     "output_type": "execute_result"
    }
   ],
   "source": [
    "test(l)"
   ]
  },
  {
   "cell_type": "code",
   "execution_count": 14,
   "id": "33290f39-6731-4d1a-a8dd-960461c4e6f9",
   "metadata": {},
   "outputs": [],
   "source": [
    "def sq(x):\n",
    "    return(x**2)"
   ]
  },
  {
   "cell_type": "code",
   "execution_count": 15,
   "id": "5a7d6e87-7d47-4238-9178-348a29b966a0",
   "metadata": {},
   "outputs": [
    {
     "data": {
      "text/plain": [
       "[4, 9, 16, 25]"
      ]
     },
     "execution_count": 15,
     "metadata": {},
     "output_type": "execute_result"
    }
   ],
   "source": [
    "list(map(sq , l))"
   ]
  },
  {
   "cell_type": "code",
   "execution_count": 16,
   "id": "7af0c057-80a5-4086-8548-d5a6c31cc56e",
   "metadata": {},
   "outputs": [
    {
     "data": {
      "text/plain": [
       "[4, 9, 16, 25]"
      ]
     },
     "execution_count": 16,
     "metadata": {},
     "output_type": "execute_result"
    }
   ],
   "source": [
    "list(map(lambda x : x**2 , l))"
   ]
  },
  {
   "cell_type": "code",
   "execution_count": 18,
   "id": "c3948811-68c0-49ab-bb7a-b90eee7fe499",
   "metadata": {},
   "outputs": [
    {
     "data": {
      "text/plain": [
       "[5, 8, 10, 12, 14]"
      ]
     },
     "execution_count": 18,
     "metadata": {},
     "output_type": "execute_result"
    }
   ],
   "source": [
    "l1 = [2,3,4,5,6]\n",
    "l2 = [3,5,6,7,8]\n",
    "\n",
    "list(map(lambda x, y : x+y , l1 , l2 )) "
   ]
  },
  {
   "cell_type": "code",
   "execution_count": 19,
   "id": "1aa9cd2e-654f-47e9-85e6-47b327c3da3e",
   "metadata": {},
   "outputs": [],
   "source": [
    "def add(x,y):\n",
    "    return x+y"
   ]
  },
  {
   "cell_type": "code",
   "execution_count": 20,
   "id": "dc69b212-bc48-4a7d-8e28-786c017e00e9",
   "metadata": {},
   "outputs": [
    {
     "data": {
      "text/plain": [
       "[5, 8, 10, 12, 14]"
      ]
     },
     "execution_count": 20,
     "metadata": {},
     "output_type": "execute_result"
    }
   ],
   "source": [
    "list(map(add ,l1 , l2 )) "
   ]
  },
  {
   "cell_type": "code",
   "execution_count": 21,
   "id": "a1a3643e-b5de-4183-9d37-807b70bb106e",
   "metadata": {},
   "outputs": [],
   "source": [
    "s = \"sidharth\""
   ]
  },
  {
   "cell_type": "code",
   "execution_count": 23,
   "id": "8c49af90-6010-4858-8366-a004450dcb78",
   "metadata": {},
   "outputs": [
    {
     "data": {
      "text/plain": [
       "['S', 'I', 'D', 'H', 'A', 'R', 'T', 'H']"
      ]
     },
     "execution_count": 23,
     "metadata": {},
     "output_type": "execute_result"
    }
   ],
   "source": [
    "list(map(lambda s : s.upper() , s))"
   ]
  },
  {
   "cell_type": "code",
   "execution_count": 24,
   "id": "c62e2032-fdf3-402b-b0b9-9310deb27d9c",
   "metadata": {},
   "outputs": [],
   "source": [
    "# reduce function"
   ]
  },
  {
   "cell_type": "code",
   "execution_count": 27,
   "id": "17b3c9bf-12e1-4378-b863-c5a846e6046f",
   "metadata": {},
   "outputs": [],
   "source": [
    "from functools import reduce "
   ]
  },
  {
   "cell_type": "code",
   "execution_count": 28,
   "id": "6e59b823-9a86-472d-8068-2aedb406e6be",
   "metadata": {},
   "outputs": [
    {
     "data": {
      "text/plain": [
       "[2, 3, 4, 5]"
      ]
     },
     "execution_count": 28,
     "metadata": {},
     "output_type": "execute_result"
    }
   ],
   "source": [
    "l "
   ]
  },
  {
   "cell_type": "code",
   "execution_count": 31,
   "id": "b6473c47-79d7-457a-ba96-4f21f9eaac29",
   "metadata": {},
   "outputs": [
    {
     "data": {
      "text/plain": [
       "14"
      ]
     },
     "execution_count": 31,
     "metadata": {},
     "output_type": "execute_result"
    }
   ],
   "source": [
    "reduce(lambda x,y : x+y , l)"
   ]
  },
  {
   "cell_type": "code",
   "execution_count": 32,
   "id": "1b11ae1d-7cfa-4001-8268-4c850ab6f4a1",
   "metadata": {},
   "outputs": [
    {
     "ename": "TypeError",
     "evalue": "reduce() of empty iterable with no initial value",
     "output_type": "error",
     "traceback": [
      "\u001b[0;31m---------------------------------------------------------------------------\u001b[0m",
      "\u001b[0;31mTypeError\u001b[0m                                 Traceback (most recent call last)",
      "Cell \u001b[0;32mIn[32], line 1\u001b[0m\n\u001b[0;32m----> 1\u001b[0m \u001b[43mreduce\u001b[49m\u001b[43m(\u001b[49m\u001b[38;5;28;43;01mlambda\u001b[39;49;00m\u001b[43m \u001b[49m\u001b[43mx\u001b[49m\u001b[43m,\u001b[49m\u001b[43my\u001b[49m\u001b[43m \u001b[49m\u001b[43m:\u001b[49m\u001b[43m \u001b[49m\u001b[43mx\u001b[49m\u001b[38;5;241;43m+\u001b[39;49m\u001b[43my\u001b[49m\u001b[43m \u001b[49m\u001b[43m,\u001b[49m\u001b[43m \u001b[49m\u001b[43m[\u001b[49m\u001b[43m]\u001b[49m\u001b[43m)\u001b[49m\n",
      "\u001b[0;31mTypeError\u001b[0m: reduce() of empty iterable with no initial value"
     ]
    }
   ],
   "source": [
    "reduce(lambda x,y : x+y , [])"
   ]
  },
  {
   "cell_type": "code",
   "execution_count": 36,
   "id": "c6135f41-73cf-4898-898b-ff5139e0e30a",
   "metadata": {},
   "outputs": [
    {
     "data": {
      "text/plain": [
       "1"
      ]
     },
     "execution_count": 36,
     "metadata": {},
     "output_type": "execute_result"
    }
   ],
   "source": [
    "reduce(lambda x,y : x+y , [1])"
   ]
  },
  {
   "cell_type": "code",
   "execution_count": 37,
   "id": "19956415-f0ef-423c-a37d-2e3b53d63736",
   "metadata": {},
   "outputs": [
    {
     "data": {
      "text/plain": [
       "120"
      ]
     },
     "execution_count": 37,
     "metadata": {},
     "output_type": "execute_result"
    }
   ],
   "source": [
    "reduce(lambda x,y : x*y , l)"
   ]
  },
  {
   "cell_type": "code",
   "execution_count": 38,
   "id": "632369a9-73d9-4ae2-b075-96241e438112",
   "metadata": {},
   "outputs": [],
   "source": [
    "s = [1,2,3,4,5,6,7]"
   ]
  },
  {
   "cell_type": "code",
   "execution_count": 39,
   "id": "8ad98cb0-a807-4081-8d13-838c14b04144",
   "metadata": {},
   "outputs": [
    {
     "data": {
      "text/plain": [
       "7"
      ]
     },
     "execution_count": 39,
     "metadata": {},
     "output_type": "execute_result"
    }
   ],
   "source": [
    "reduce(lambda x,y : x if x > y else y , s)"
   ]
  },
  {
   "cell_type": "code",
   "execution_count": 40,
   "id": "430a9e65-0501-464b-bcfd-911f9cf665c6",
   "metadata": {},
   "outputs": [],
   "source": [
    "# filter function  "
   ]
  },
  {
   "cell_type": "code",
   "execution_count": 41,
   "id": "0c8be834-96f2-47a4-9262-45a2ea16f14e",
   "metadata": {},
   "outputs": [
    {
     "data": {
      "text/plain": [
       "[2, 3, 4, 5]"
      ]
     },
     "execution_count": 41,
     "metadata": {},
     "output_type": "execute_result"
    }
   ],
   "source": [
    "l"
   ]
  },
  {
   "cell_type": "code",
   "execution_count": 42,
   "id": "2ea41750-6dff-413d-acc8-ff4b01683fc7",
   "metadata": {},
   "outputs": [
    {
     "data": {
      "text/plain": [
       "[2, 4]"
      ]
     },
     "execution_count": 42,
     "metadata": {},
     "output_type": "execute_result"
    }
   ],
   "source": [
    "list(filter(lambda x : x % 2 == 0 ,l))"
   ]
  },
  {
   "cell_type": "code",
   "execution_count": 44,
   "id": "ab2636a8-ee56-4a63-a530-8eacf7817274",
   "metadata": {},
   "outputs": [
    {
     "data": {
      "text/plain": [
       "[3, 5]"
      ]
     },
     "execution_count": 44,
     "metadata": {},
     "output_type": "execute_result"
    }
   ],
   "source": [
    "list(filter(lambda x : x % 2 != 0 ,l))"
   ]
  },
  {
   "cell_type": "code",
   "execution_count": 45,
   "id": "730eaa19-9863-4c8f-88cd-15b10da91547",
   "metadata": {},
   "outputs": [],
   "source": [
    "l1 = [1,2,3,4,-3,-5,-6]"
   ]
  },
  {
   "cell_type": "code",
   "execution_count": 46,
   "id": "16ccb822-a9dd-4c01-be38-86e3526889b1",
   "metadata": {},
   "outputs": [
    {
     "data": {
      "text/plain": [
       "[-3, -5, -6]"
      ]
     },
     "execution_count": 46,
     "metadata": {},
     "output_type": "execute_result"
    }
   ],
   "source": [
    "list(filter(lambda x : x<0 ,l1))"
   ]
  },
  {
   "cell_type": "code",
   "execution_count": 47,
   "id": "b213e5e5-452e-4e19-a114-c8ba868a17d7",
   "metadata": {},
   "outputs": [],
   "source": [
    "l2 = [\"sidh\" , \"sidharth singh \" , \"rahul\" , \"naman\" , \"nisha\"]"
   ]
  },
  {
   "cell_type": "code",
   "execution_count": 48,
   "id": "239b76c5-494b-4d9d-833e-e81f687a980b",
   "metadata": {},
   "outputs": [
    {
     "data": {
      "text/plain": [
       "['sidh', 'rahul', 'naman', 'nisha']"
      ]
     },
     "execution_count": 48,
     "metadata": {},
     "output_type": "execute_result"
    }
   ],
   "source": [
    "list(filter(lambda x : len(x) <6 , l2))"
   ]
  },
  {
   "cell_type": "code",
   "execution_count": null,
   "id": "ef88133f-2a3b-4ef5-ae30-e108699a80fa",
   "metadata": {},
   "outputs": [],
   "source": []
  }
 ],
 "metadata": {
  "kernelspec": {
   "display_name": "Python 3 (ipykernel)",
   "language": "python",
   "name": "python3"
  },
  "language_info": {
   "codemirror_mode": {
    "name": "ipython",
    "version": 3
   },
   "file_extension": ".py",
   "mimetype": "text/x-python",
   "name": "python",
   "nbconvert_exporter": "python",
   "pygments_lexer": "ipython3",
   "version": "3.10.8"
  }
 },
 "nbformat": 4,
 "nbformat_minor": 5
}
